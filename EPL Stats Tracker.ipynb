{
 "cells": [
  {
   "cell_type": "raw",
   "id": "f207fb17",
   "metadata": {},
   "source": [
    "Initialisation de la Session Spark & variables  "
   ]
  },
  {
   "cell_type": "code",
   "execution_count": 30,
   "id": "2fd81886",
   "metadata": {},
   "outputs": [
    {
     "name": "stdout",
     "output_type": "stream",
     "text": [
      "root\n",
      " |-- Player: string (nullable = true)\n",
      " |-- Team: string (nullable = true)\n",
      " |-- Nation: string (nullable = true)\n",
      " |-- Position: string (nullable = true)\n",
      " |-- Age: string (nullable = true)\n",
      " |-- MathPlayed: string (nullable = true)\n",
      " |-- MatchStarted: string (nullable = true)\n",
      " |-- MinutesPlayed: float (nullable = true)\n",
      " |-- MPdivideby90: float (nullable = true)\n",
      " |-- GoalSoA: string (nullable = true)\n",
      " |-- Assists: string (nullable = true)\n",
      " |-- Goals-PK: string (nullable = true)\n",
      " |-- PenaltyKick: string (nullable = true)\n",
      " |-- PenaltyKickAtt: string (nullable = true)\n",
      " |-- NbYellowCards: string (nullable = true)\n",
      " |-- NbRedCards: string (nullable = true)\n",
      " |-- Goalsin90: float (nullable = true)\n",
      " |-- Assistin90: float (nullable = true)\n",
      " |-- GoalAssistin90: float (nullable = true)\n",
      " |-- Goals-PKin90: float (nullable = true)\n",
      " |-- GAby90-PK: string (nullable = true)\n",
      " |-- ExpGoals: string (nullable = true)\n",
      " |-- ExpGoals-PK: string (nullable = true)\n",
      " |-- ExpAssists: string (nullable = true)\n",
      " |-- ExpGA-PK: string (nullable = true)\n",
      " |-- ExpGoalsin90: string (nullable = true)\n",
      " |-- ExpGoals-PKin90: string (nullable = true)\n",
      " |-- ExpAssistsin90: string (nullable = true)\n",
      " |-- ExpGA-PKin90: string (nullable = true)\n",
      "\n"
     ]
    }
   ],
   "source": [
    "import findspark\n",
    "findspark.init()\n",
    "import tensorflow as tf\n",
    "import numpy as np\n",
    "import pandas as pd\n",
    "import pydoop.hdfs as hdfs\n",
    "\n",
    "from pyspark.sql import SparkSession\n",
    "from pyspark.sql.types import StructType\n",
    "from pyspark.sql.types import StructField\n",
    "from pyspark.sql.types import StringType\n",
    "from pyspark.sql.types import FloatType\n",
    "\n",
    "spark  = SparkSession.builder.appName(\"Hadoop Project\").getOrCreate()\n",
    "mySchema = StructType([StructField('Player', StringType(), True),\n",
    "                        StructField('Team', StringType(), True),\n",
    "                        StructField('Nation', StringType(), True),\n",
    "                        StructField('Position', StringType(), True),\n",
    "                        StructField('Age', StringType(), True),\n",
    "                        StructField('MathPlayed', StringType(), True),\n",
    "                        StructField('MatchStarted', StringType(), True),\n",
    "                        StructField('MinutesPlayed', FloatType(), True),\n",
    "                        StructField('MPdivideby90', FloatType(), True),\n",
    "                        StructField('GoalSoA', StringType(), True),\n",
    "                        StructField('Assists', StringType(), True),\n",
    "                        StructField('Goals-PK', StringType(), True),\n",
    "                        StructField('PenaltyKick', StringType(), True),\n",
    "                        StructField('PenaltyKickAtt', StringType(), True),\n",
    "                        StructField('NbYellowCards', StringType(), True),\n",
    "                        StructField('NbRedCards', StringType(), True),\n",
    "                        StructField('Goalsin90', FloatType(), True),\n",
    "                        StructField('Assistin90', FloatType(), True),\n",
    "                        StructField('GoalAssistin90', FloatType(), True),\n",
    "                        StructField('Goals-PKin90', FloatType(), True),\n",
    "                        StructField('GAby90-PK', StringType(), True),\n",
    "                        StructField('ExpGoals', StringType(), True),\n",
    "                        StructField('ExpGoals-PK', StringType(), True),\n",
    "                        StructField('ExpAssists', StringType(), True),\n",
    "                        StructField('ExpGA-PK', StringType(), True),\n",
    "                        StructField('ExpGoalsin90', StringType(), True),\n",
    "                        StructField('ExpGoals-PKin90', StringType(), True),\n",
    "                        StructField('ExpAssistsin90', StringType(), True),\n",
    "                        StructField('ExpGA-PKin90', StringType(), True)]\n",
    "                     )\n",
    "\n",
    "df_stats_players = spark.read.csv(\"hdfs://localhost:9000/dataset/epl_players_stats.csv\", header=True, schema=mySchema)\n",
    "\n",
    "df_stats_players.printSchema()\n",
    "                    "
   ]
  },
  {
   "cell_type": "raw",
   "id": "ba0c3ab4",
   "metadata": {},
   "source": [
    "Affichage des joueurs d'une équipe"
   ]
  },
  {
   "cell_type": "code",
   "execution_count": 20,
   "id": "6def5295",
   "metadata": {},
   "outputs": [
    {
     "name": "stdout",
     "output_type": "stream",
     "text": [
      "+-------------------+-------+-------+--------+---+----------+------------+-------------+-----------------+------+\n",
      "|             Player|   Team| Nation|Position|Age|MathPlayed|MatchStarted|MinutesPlayed|Minutesdivideby90|GoalSA|\n",
      "+-------------------+-------+-------+--------+---+----------+------------+-------------+-----------------+------+\n",
      "|      Edouard Mendy|Chelsea| sn SEN|      GK| 29|        34|          34|     3060.000|             34.0|     0|\n",
      "|    Antonio Rüdiger|Chelsea| de GER|      DF| 28|        34|          34|     3035.000|             33.7|     3|\n",
      "|       Thiago Silva|Chelsea| br BRA|      DF| 36|        32|          28|     2650.000|             29.4|     3|\n",
      "|        Mason Mount|Chelsea|eng ENG|   MF FW| 22|        32|          27|     2363.000|             26.3|    11|\n",
      "|           Jorginho|Chelsea| it ITA|      MF| 29|        29|          26|     2273.000|             25.3|     6|\n",
      "|      Marcos Alonso|Chelsea| es ESP|      DF| 30|        28|          25|     2167.000|             24.1|     4|\n",
      "|  César Azpilicueta|Chelsea| es ESP|      DF| 31|        27|          24|     2070.000|             23.0|     1|\n",
      "|        Reece James|Chelsea|eng ENG|      DF| 21|        26|          22|     1864.000|             20.7|     5|\n",
      "|        Kai Havertz|Chelsea| de GER|   FW MF| 22|        29|          22|     1809.000|             20.1|     8|\n",
      "|       N'Golo Kanté|Chelsea| fr FRA|      MF| 30|        26|          21|     1773.000|             19.7|     2|\n",
      "|Andreas Christensen|Chelsea| dk DEN|      DF| 25|        19|          17|     1496.000|             16.6|     0|\n",
      "|    Trevoh Chalobah|Chelsea|eng ENG|      DF| 22|        20|          17|     1449.000|             16.1|     3|\n",
      "|      Romelu Lukaku|Chelsea| be BEL|      FW| 28|        26|          16|     1589.000|             17.7|     8|\n",
      "|      Mateo Kova?i?|Chelsea| hr CRO|      MF| 27|        25|          16|     1558.000|             17.3|     2|\n",
      "|        Timo Werner|Chelsea| de GER|   FW MF| 25|        21|          15|     1283.000|             14.3|     4|\n",
      "|       Hakim Ziyech|Chelsea| ma MAR|   FW MF| 28|        23|          14|     1319.000|             14.7|     4|\n",
      "| Ruben Loftus-Cheek|Chelsea|eng ENG|   MF DF| 25|        24|          13|     1394.000|             15.5|     0|\n",
      "|  Christian Pulisic|Chelsea| us USA|   MF FW| 22|        22|          13|     1290.000|             14.3|     6|\n",
      "| Callum Hudson-Odoi|Chelsea|eng ENG|   FW MF| 20|        15|          11|          962|             10.7|     1|\n",
      "|        Malang Sarr|Chelsea| fr FRA|      DF| 22|         8|           6|          546|              6.1|     0|\n",
      "+-------------------+-------+-------+--------+---+----------+------------+-------------+-----------------+------+\n",
      "only showing top 20 rows\n",
      "\n"
     ]
    }
   ],
   "source": [
    "def get_players_from_team(team):\n",
    "    df_stats_players.select(df_stats_players.columns[:10]).filter(df_stats_players.Team == team).show()\n",
    "\n",
    "get_players_from_team(\"Chelsea\")"
   ]
  },
  {
   "cell_type": "raw",
   "id": "cd97d5c9",
   "metadata": {},
   "source": [
    "Cluster "
   ]
  },
  {
   "cell_type": "code",
   "execution_count": null,
   "id": "c21da474",
   "metadata": {},
   "outputs": [],
   "source": [
    "df_stats_players.reateOrReplaceTempView(\"PlayersTbl\")\n",
    "players_cluster = spark.sql(\"select Player from PlayersTbl cluster by GoalAssistin90\")\n",
    "players_cluster"
   ]
  },
  {
   "cell_type": "code",
   "execution_count": null,
   "id": "46000f47",
   "metadata": {},
   "outputs": [],
   "source": [
    "spark.stop()"
   ]
  }
 ],
 "metadata": {
  "kernelspec": {
   "display_name": "Python 3 (ipykernel)",
   "language": "python",
   "name": "python3"
  },
  "language_info": {
   "codemirror_mode": {
    "name": "ipython",
    "version": 3
   },
   "file_extension": ".py",
   "mimetype": "text/x-python",
   "name": "python",
   "nbconvert_exporter": "python",
   "pygments_lexer": "ipython3",
   "version": "3.9.7"
  }
 },
 "nbformat": 4,
 "nbformat_minor": 5
}
